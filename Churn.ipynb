{
  "nbformat": 4,
  "nbformat_minor": 0,
  "metadata": {
    "colab": {
      "provenance": [],
      "authorship_tag": "ABX9TyMvbuOgpZoFGGCLLAC6fF9z",
      "include_colab_link": true
    },
    "kernelspec": {
      "name": "python3",
      "display_name": "Python 3"
    },
    "language_info": {
      "name": "python"
    }
  },
  "cells": [
    {
      "cell_type": "markdown",
      "metadata": {
        "id": "view-in-github",
        "colab_type": "text"
      },
      "source": [
        "<a href=\"https://colab.research.google.com/github/PETEROA/Customer_Churn/blob/main/Churn.ipynb\" target=\"_parent\"><img src=\"https://colab.research.google.com/assets/colab-badge.svg\" alt=\"Open In Colab\"/></a>"
      ]
    },
    {
      "cell_type": "code",
      "execution_count": null,
      "metadata": {
        "id": "yKrY6sD5r0gJ"
      },
      "outputs": [],
      "source": [
        "import numpy as np\n",
        "import seaborn as sns\n",
        "import pandas as pd\n"
      ]
    },
    {
      "cell_type": "code",
      "source": [
        "df = pd.read_csv('Telco-Customer-Churn.csv')"
      ],
      "metadata": {
        "id": "Mb6l5XGttmcp"
      },
      "execution_count": null,
      "outputs": []
    },
    {
      "cell_type": "code",
      "source": [
        "df.head\n"
      ],
      "metadata": {
        "id": "yUv3rY1byUWh"
      },
      "execution_count": null,
      "outputs": []
    },
    {
      "cell_type": "code",
      "source": [
        "column_name = 'TotalCharges'"
      ],
      "metadata": {
        "id": "z7LjiBvLyYG6"
      },
      "execution_count": null,
      "outputs": []
    },
    {
      "cell_type": "code",
      "source": [
        "# Utilize pandas to_numeric function to convert the TotalCharges column to numeric values\n",
        "df[column_name] = pd.to_numeric(df[column_name], errors='coerce')\n"
      ],
      "metadata": {
        "id": "0o26CwvR290-"
      },
      "execution_count": null,
      "outputs": []
    },
    {
      "cell_type": "code",
      "source": [
        "df"
      ],
      "metadata": {
        "id": "n7Z171aJ3Fmo"
      },
      "execution_count": null,
      "outputs": []
    },
    {
      "cell_type": "code",
      "source": [
        "# Drop two columns\n",
        "columns_to_drop = ['customerID', 'PhoneService']\n",
        "df = df.drop(columns=columns_to_drop)"
      ],
      "metadata": {
        "id": "l8AQR9aqs-ag"
      },
      "execution_count": null,
      "outputs": []
    },
    {
      "cell_type": "code",
      "source": [
        "df"
      ],
      "metadata": {
        "id": "iV6lZhJWtpNZ"
      },
      "execution_count": null,
      "outputs": []
    },
    {
      "cell_type": "code",
      "source": [
        "# Specify the column you want to fill missing values in\n",
        "column_name = 'TotalCharges'\n",
        "\n",
        "# Fill missing values in the specified column with 0\n",
        "df[column_name].fillna(0, inplace=True)"
      ],
      "metadata": {
        "id": "P9h8URmN3fqq"
      },
      "execution_count": null,
      "outputs": []
    },
    {
      "cell_type": "code",
      "source": [
        "#convert the Churn Column (labeled Yes & No) to binary values\n",
        "column_name = 'Churn'"
      ],
      "metadata": {
        "id": "Wy0QdmfM3p0h"
      },
      "execution_count": null,
      "outputs": []
    },
    {
      "cell_type": "code",
      "source": [
        "# Define a mapping dictionary for \"No\" and \"Yes\"\n",
        "mapping = {\"No\": 0, \"Yes\": 1}\n"
      ],
      "metadata": {
        "id": "AAIPMymZ4tzW"
      },
      "execution_count": null,
      "outputs": []
    },
    {
      "cell_type": "code",
      "source": [
        "# Use the map function to perform the conversion\n",
        "df[column_name] = df[column_name].map(mapping)"
      ],
      "metadata": {
        "id": "9UWq4WTA47Dp"
      },
      "execution_count": null,
      "outputs": []
    },
    {
      "cell_type": "code",
      "source": [
        "from sklearn.model_selection import train_test_split"
      ],
      "metadata": {
        "id": "3HsutUiJ5G5F"
      },
      "execution_count": null,
      "outputs": []
    },
    {
      "cell_type": "code",
      "source": [
        "X = df.drop(['gender', 'SeniorCitizen', 'Partner', 'Dependents', 'MultipleLines', 'InternetService', 'OnlineSecurity', 'OnlineBackup', 'DeviceProtection', 'TechSupport', 'StreamingTV', 'StreamingMovies', 'Contract', 'PaperlessBilling', 'PaymentMethod'], axis=1)  # Replace with your target column names"
      ],
      "metadata": {
        "id": "eIRE4ksU51uU"
      },
      "execution_count": null,
      "outputs": []
    },
    {
      "cell_type": "code",
      "source": [
        "# Specify your target columns\n",
        "y1 = df['tenure']\n",
        "y2 = df['MonthlyCharges']\n",
        "y3 = df['TotalCharges']\n",
        "\n",
        "# Split the dataset into training and testing sets for each target column (80% train, 20% test) with random_state=1\n",
        "X_train, X_test, y1_train, y1_test, y2_train, y2_test, y3_train, y3_test = train_test_split(X, y1, y2, y3, test_size=0.2, random_state=1)\n",
        "\n",
        "\n"
      ],
      "metadata": {
        "id": "48MAS17J8qYl"
      },
      "execution_count": null,
      "outputs": []
    },
    {
      "cell_type": "code",
      "source": [
        "df.dropna()"
      ],
      "metadata": {
        "id": "IiwiOiLcm0D2"
      },
      "execution_count": null,
      "outputs": []
    },
    {
      "cell_type": "code",
      "source": [
        "from sklearn.preprocessing import StandardScaler"
      ],
      "metadata": {
        "id": "g_fpMBfP9sRb"
      },
      "execution_count": null,
      "outputs": []
    },
    {
      "cell_type": "code",
      "source": [
        "# Scale selected numerical columns\n",
        "numerical_columns = ['tenure', 'MonthlyCharges', 'TotalCharges']\n",
        "\n",
        "# Create a DataFrame with only the selected numerical columns\n",
        "numerical_data = df[numerical_columns]\n",
        "\n",
        "# Initialize the StandardScaler\n",
        "scaler = StandardScaler()"
      ],
      "metadata": {
        "id": "mO5lLDhG-i2Q"
      },
      "execution_count": null,
      "outputs": []
    },
    {
      "cell_type": "code",
      "source": [
        "# Fit and transform the numerical data\n",
        "scaled_data = scaler.fit_transform(numerical_data)\n",
        "\n",
        "# Convert the scaled data back to a DataFrame with original column names\n",
        "scaled_df = pd.DataFrame(scaled_data, columns=numerical_columns)\n",
        "\n",
        "# Update the original dataset with the scaled values\n",
        "df[numerical_columns] = scaled_df"
      ],
      "metadata": {
        "id": "3n9vMgLf-74_"
      },
      "execution_count": null,
      "outputs": []
    },
    {
      "cell_type": "code",
      "source": [
        "pip install -U scikit-learn\n"
      ],
      "metadata": {
        "colab": {
          "base_uri": "https://localhost:8080/"
        },
        "id": "lKhoGcSkD5Wt",
        "outputId": "9f9566fe-01ba-4809-a28c-0990aaa49c13"
      },
      "execution_count": null,
      "outputs": [
        {
          "output_type": "stream",
          "name": "stdout",
          "text": [
            "Requirement already satisfied: scikit-learn in /usr/local/lib/python3.10/dist-packages (1.3.2)\n",
            "Requirement already satisfied: numpy<2.0,>=1.17.3 in /usr/local/lib/python3.10/dist-packages (from scikit-learn) (1.23.5)\n",
            "Requirement already satisfied: scipy>=1.5.0 in /usr/local/lib/python3.10/dist-packages (from scikit-learn) (1.11.3)\n",
            "Requirement already satisfied: joblib>=1.1.1 in /usr/local/lib/python3.10/dist-packages (from scikit-learn) (1.3.2)\n",
            "Requirement already satisfied: threadpoolctl>=2.0.0 in /usr/local/lib/python3.10/dist-packages (from scikit-learn) (3.2.0)\n"
          ]
        }
      ]
    },
    {
      "cell_type": "code",
      "source": [
        "from sklearn.preprocessing import OneHotEncoder\n",
        "from sklearn.compose import ColumnTransformer\n"
      ],
      "metadata": {
        "id": "aEbWpuHx_FJO"
      },
      "execution_count": null,
      "outputs": []
    },
    {
      "cell_type": "code",
      "source": [
        "#  one-hot encode selected categorical columns\n",
        "categorical_columns = ['gender', 'SeniorCitizen', 'Partner', 'Dependents', 'MultipleLines', 'InternetService', 'OnlineSecurity', 'OnlineBackup', 'DeviceProtection', 'TechSupport', 'StreamingTV', 'StreamingMovies', 'Contract', 'PaperlessBilling', 'PaymentMethod']  # Replace with your categorical column names\n"
      ],
      "metadata": {
        "id": "vbGfVyR6_-1H"
      },
      "execution_count": null,
      "outputs": []
    },
    {
      "cell_type": "code",
      "source": [
        "# Create a DataFrame with only the selected categorical columns\n",
        "categorical_data = df[categorical_columns]\n",
        "\n",
        "# Initialize the OneHotEncoder\n",
        "encoder = OneHotEncoder(sparse=False)\n",
        "\n",
        "# Fit and transform the categorical data\n",
        "encoded_data = encoder.fit_transform(categorical_data)\n",
        "\n",
        "# Get the feature names after one-hot encoding\n",
        "feature_names = encoder.get_feature_names_out(input_features=categorical_columns)\n",
        "\n",
        "# Convert the encoded data back to a DataFrame with column names\n",
        "encoded_df = pd.DataFrame(encoded_data, columns=feature_names)\n",
        "\n",
        "# Update the original dataset with the one-hot encoded values\n",
        "data = pd.concat([df, encoded_df], axis=1)\n",
        "\n",
        "# Drop the original categorical columns if needed\n",
        "data.drop(categorical_columns, axis=1, inplace=True)\n",
        "\n",
        "\n"
      ],
      "metadata": {
        "colab": {
          "base_uri": "https://localhost:8080/"
        },
        "id": "ZDRrQPotC9iu",
        "outputId": "d9d174d4-d2a7-4990-fc3b-587bcf3e1dbd"
      },
      "execution_count": null,
      "outputs": [
        {
          "output_type": "stream",
          "name": "stderr",
          "text": [
            "/usr/local/lib/python3.10/dist-packages/sklearn/preprocessing/_encoders.py:868: FutureWarning: `sparse` was renamed to `sparse_output` in version 1.2 and will be removed in 1.4. `sparse_output` is ignored unless you leave `sparse` to its default value.\n",
            "  warnings.warn(\n"
          ]
        }
      ]
    },
    {
      "cell_type": "code",
      "source": [
        "# Specify your target column 'Churn'\n",
        "target_column = 'Churn'\n",
        "\n",
        "# Separate the target variable from the features\n",
        "X = data.drop(target_column, axis=1)\n",
        "y = data[target_column]\n",
        "\n",
        "# Split the data into training and testing sets (80% train, 20% test) with a random state\n",
        "X_train, X_test, y_train, y_test = train_test_split(X, y, test_size=0.2, random_state=1)\n",
        "\n",
        "# Specify numerical and categorical columns\n",
        "numerical_columns = ['tenure', 'MonthlyCharges', 'TotalCharges']\n",
        "categorical_data #= ['gender', 'SeniorCitizen', 'Partner', 'Dependents', 'MultipleLines','InternetService', 'OnlineSecurity', 'OnlineBackup', 'DeviceProtection', 'TechSupport', 'StreamingTV', 'StreamingMovies', 'Contract', 'PaperlessBilling', 'PaymentMethod' ]\n",
        "\n",
        "# Combine the numerical and categorical features for train and test sets\n",
        "X_train_combined = pd.concat([X_train[numerical_columns], X_train[categorical_data]], axis=1)\n",
        "X_test_combined = pd.concat([X_test[numerical_columns], X_test[categorical_data]], axis=1)\n"
      ],
      "metadata": {
        "id": "qDKEdLY8EpeU"
      },
      "execution_count": null,
      "outputs": []
    },
    {
      "cell_type": "code",
      "source": [
        "from sklearn.ensemble import RandomForestClassifier, ExtraTreesClassifier\n",
        "from sklearn.metrics import accuracy_score"
      ],
      "metadata": {
        "id": "8RBA9yPsLca2"
      },
      "execution_count": null,
      "outputs": []
    },
    {
      "cell_type": "code",
      "source": [
        "columns_with_missing_data = df.columns[df.isna().any()].tolist()\n",
        "\n",
        "print(\"Columns with missing data:\", columns_with_missing_data)"
      ],
      "metadata": {
        "colab": {
          "base_uri": "https://localhost:8080/"
        },
        "id": "Pt1Y8HO8aFm3",
        "outputId": "af2bcc43-0c8c-4410-ef0e-cd2a14c03dc8"
      },
      "execution_count": null,
      "outputs": [
        {
          "output_type": "stream",
          "name": "stdout",
          "text": [
            "Columns with missing data: []\n"
          ]
        }
      ]
    },
    {
      "cell_type": "code",
      "source": [
        "import numpy as np\n",
        "import pandas as pd\n",
        "from sklearn.model_selection import train_test_split\n",
        "from xgboost import XGBClassifier\n",
        "from lightgbm import LGBMClassifier\n",
        "from sklearn.metrics import accuracy_score\n",
        "import xgboost as xgb\n",
        "\n",
        "\n",
        "# Exclude non-numeric columns from the feature set\n",
        "numeric_columns = df.select_dtypes(include=['int', 'float']).columns\n",
        "X = df[numeric_columns]\n",
        "\n",
        "# Identify and encode categorical columns\n",
        "categorical_columns = X.select_dtypes(include=['object']).columns\n",
        "X = pd.get_dummies(X, columns=categorical_columns, drop_first=True)\n",
        "\n",
        "xgb_model = xgb.XGBClassifier(booster='gbtree', enable_categorical=True)\n",
        "xgb_model.set_params(enable_categorical=True)  # Alternatively, set it using set_params\n",
        "# Train XGBoost model\n",
        "xgb_model = XGBClassifier(random_state=1)\n",
        "xgb_model.fit(X_train, y_train)\n",
        "\n",
        "# Train LightGBM model\n",
        "lgbm_model = LGBMClassifier(random_state=1)\n",
        "lgbm_model.fit(X_train, y_train)\n",
        "\n",
        "# Make predictions using both models on the test set\n",
        "xgb_predictions = xgb_model.predict(X_test)\n",
        "lgbm_predictions = lgbm_model.predict(X_test)\n",
        "\n",
        "# Evaluate the models using accuracy\n",
        "xgb_accuracy = accuracy_score(y_test, xgb_predictions)\n",
        "lgbm_accuracy = accuracy_score(y_test, lgbm_predictions)\n",
        "\n",
        "print(\"XGBoost Model Accuracy:\", xgb_accuracy)\n",
        "print(\"LightGBM Model Accuracy:\", lgbm_accuracy)\n"
      ],
      "metadata": {
        "colab": {
          "base_uri": "https://localhost:8080/"
        },
        "id": "vewvoZl9pQNd",
        "outputId": "2a2ef252-caac-4ac1-d193-b95bc3e4d3e9"
      },
      "execution_count": null,
      "outputs": [
        {
          "output_type": "stream",
          "name": "stdout",
          "text": [
            "[LightGBM] [Warning] Found whitespace in feature_names, replace with underlines\n",
            "[LightGBM] [Info] Number of positive: 1521, number of negative: 4113\n",
            "[LightGBM] [Info] Auto-choosing row-wise multi-threading, the overhead of testing was 0.001423 seconds.\n",
            "You can set `force_row_wise=true` to remove the overhead.\n",
            "And if memory is not enough, you can set `force_col_wise=true`.\n",
            "[LightGBM] [Info] Total Bins 666\n",
            "[LightGBM] [Info] Number of data points in the train set: 5634, number of used features: 44\n",
            "[LightGBM] [Info] [binary:BoostFromScore]: pavg=0.269968 -> initscore=-0.994785\n",
            "[LightGBM] [Info] Start training from score -0.994785\n",
            "XGBoost Model Accuracy: 0.7934705464868701\n",
            "LightGBM Model Accuracy: 0.8133427963094393\n"
          ]
        }
      ]
    },
    {
      "cell_type": "code",
      "source": [
        "# Create and train a Random Forest classifier\n",
        "rf_classifier = RandomForestClassifier(random_state=1)\n",
        "rf_classifier.fit(X_train, y_train)\n",
        "\n",
        "# Create and train an Extra Trees classifier\n",
        "et_classifier = ExtraTreesClassifier(random_state=1)\n",
        "et_classifier.fit(X_train, y_train)\n",
        "\n",
        "# Make predictions with both models on the test set\n",
        "rf_predictions = rf_classifier.predict(X_test)\n",
        "et_predictions = et_classifier.predict(X_test)\n",
        "\n",
        "# Evaluate the models using accuracy\n",
        "rf_accuracy = accuracy_score(y_test, rf_predictions)\n",
        "et_accuracy = accuracy_score(y_test, et_predictions)\n",
        "\n",
        "print(\"Random Forest Classifier Accuracy:\", rf_accuracy)\n",
        "print(\"Extra Trees Classifier Accuracy:\", et_accuracy)\n"
      ],
      "metadata": {
        "colab": {
          "base_uri": "https://localhost:8080/"
        },
        "id": "nCxAY96buE1s",
        "outputId": "ddf0d279-0fef-403c-df41-5beda00c6254"
      },
      "execution_count": null,
      "outputs": [
        {
          "output_type": "stream",
          "name": "stdout",
          "text": [
            "Random Forest Classifier Accuracy: 0.7970191625266146\n",
            "Extra Trees Classifier Accuracy: 0.7714691270404542\n"
          ]
        }
      ]
    },
    {
      "cell_type": "code",
      "source": [
        "import pickle"
      ],
      "metadata": {
        "id": "ZTF_6_iUBbfW"
      },
      "execution_count": null,
      "outputs": []
    },
    {
      "cell_type": "code",
      "source": [
        "# Create instances of multiple trained models\n",
        "rf_model = RandomForestClassifier()\n",
        "ext_model = ExtraTreesClassifier()\n",
        "xgb_model = XGBClassifier()\n",
        "lgb_model = LGBMClassifier()\n",
        "\n",
        "# Save each model to a separate file\n",
        "models_to_save = [rf_model, ext_model, xgb_model, lgbm_model]\n",
        "model_filenames = [\"rf_model.pkl\", \"ext_model.pkl\", \"xgb_model.pkl\", \"lgbm_model\"]\n",
        "\n",
        "for model, filename in zip(models_to_save, model_filenames):\n",
        "    with open(filename, \"wb\") as file:\n",
        "        pickle.dump(model, file)\n"
      ],
      "metadata": {
        "id": "vszgfN2kIt68"
      },
      "execution_count": null,
      "outputs": []
    }
  ]
}